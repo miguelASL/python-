{
  "nbformat": 4,
  "nbformat_minor": 0,
  "metadata": {
    "colab": {
      "provenance": [],
      "authorship_tag": "ABX9TyNn6x2ZnxR6OtNnkKLC5y2H",
      "include_colab_link": true
    },
    "kernelspec": {
      "name": "python3",
      "display_name": "Python 3"
    },
    "language_info": {
      "name": "python"
    }
  },
  "cells": [
    {
      "cell_type": "markdown",
      "metadata": {
        "id": "view-in-github",
        "colab_type": "text"
      },
      "source": [
        "<a href=\"https://colab.research.google.com/github/miguelASL/python-ejercicios/blob/main/Untitled3.ipynb\" target=\"_parent\"><img src=\"https://colab.research.google.com/assets/colab-badge.svg\" alt=\"Open In Colab\"/></a>"
      ]
    },
    {
      "cell_type": "code",
      "source": [
        "import numpy as np\n",
        "import pandas as pd\n",
        "import matplotlib\n",
        "import matplotlib.pyplot as plt\n",
        "import seaborn as sns\n",
        "import statsmodels.api as sm\n",
        "%matplotlib\n",
        "from sklearn.model_selection import train_test_split\n",
        "from sklearn.model_selection import KFold\n",
        "from sklearn.model_selection import cross_val_score\n"
      ],
      "metadata": {
        "colab": {
          "base_uri": "https://localhost:8080/"
        },
        "id": "9ORUyGlSqdwC",
        "outputId": "8498c2fb-5fde-4831-a836-52c5ec225844"
      },
      "execution_count": 5,
      "outputs": [
        {
          "output_type": "stream",
          "name": "stdout",
          "text": [
            "Using matplotlib backend: <object object at 0x7ff0c89b7460>\n"
          ]
        }
      ]
    },
    {
      "cell_type": "code",
      "execution_count": 2,
      "metadata": {
        "id": "jucmNAmInX2X"
      },
      "outputs": [],
      "source": [
        "import pandas as pd\n",
        "filename = \"pima-indians-diabetes.data.csv\"\n",
        "names = [\"preg\", \"plas\", \"pres\", \"skin\", \"test\", \"mass\", \"pedi\", \"age\", \"class\"]\n",
        "df_cla = pd.read_csv(filename, names = names)\n",
        "array = df_cla.values\n",
        "X_cla = array[:, 0:8]\n",
        "Y_cla = array[:, 8]"
      ]
    },
    {
      "cell_type": "code",
      "source": [
        "import pandas as pd\n",
        "filename = \"housing.csv\"\n",
        "names = [\"CRIM\", \"ZN\", \"INDUS\", \"CHAS\", \"NOX\", \"RM\", \"AGE\", \"DIS\", \"RAD\", \"TAX\", \"PTRATIO\", \"B\", \"LSTAT\", \"MEDV\"]\n",
        "df_reg = pd.read_csv(filename, names = names, delim_whitespace= True)\n",
        "array = df_reg.values\n",
        "X_reg = array [:, 0:13]\n",
        "Y_reg = array [:, 13]"
      ],
      "metadata": {
        "id": "iNxkGN_7oVi2"
      },
      "execution_count": 4,
      "outputs": []
    },
    {
      "cell_type": "code",
      "source": [
        "from sklearn.linear_model import LinearRegression\n",
        "\n",
        "kfold = KFold(n_splits=10, shuffle=True, random_state=7)\n",
        "model = LinearRegression()\n",
        "scoring = \"neg_mean_squared_error\"\n",
        "results = cross_val_score(model, X_reg, Y_reg, cv=kfold, scoring=scoring)\n",
        "print(f\"MSE: {-results.mean()}\")\n",
        "\n"
      ],
      "metadata": {
        "colab": {
          "base_uri": "https://localhost:8080/"
        },
        "id": "LwPvWbjqpe4r",
        "outputId": "448c1118-dfb6-4dbd-c388-34879033a0b2"
      },
      "execution_count": 10,
      "outputs": [
        {
          "output_type": "stream",
          "name": "stdout",
          "text": [
            "MSE: 23.746501811313408\n"
          ]
        }
      ]
    },
    {
      "cell_type": "code",
      "source": [
        "from sklearn.linear_model import Ridge\n",
        "\n",
        "kfold = KFold(n_splits=10, shuffle=True, random_state=7)\n",
        "model = Ridge()\n",
        "scoring = \"neg_mean_squared_error\"\n",
        "results = cross_val_score(model, X_reg, Y_reg, cv=kfold, scoring=scoring)\n",
        "print(f\"MSE: {-results.mean()}\")"
      ],
      "metadata": {
        "colab": {
          "base_uri": "https://localhost:8080/"
        },
        "id": "UQpNxrFTr-3y",
        "outputId": "d9c3d187-c58d-4141-8b9c-e532e44e9881"
      },
      "execution_count": 11,
      "outputs": [
        {
          "output_type": "stream",
          "name": "stdout",
          "text": [
            "MSE: 23.889890185053435\n"
          ]
        }
      ]
    },
    {
      "cell_type": "code",
      "source": [
        "from sklearn.linear_model import Lasso\n",
        "\n",
        "kfold = KFold(n_splits=10, shuffle=True, random_state=7)\n",
        "model = Lasso()\n",
        "scoring = \"neg_mean_squared_error\"\n",
        "results = cross_val_score(model, X_reg, Y_reg, cv=kfold, scoring=scoring)\n",
        "print(f\"MSE: {-results.mean()}\")"
      ],
      "metadata": {
        "colab": {
          "base_uri": "https://localhost:8080/"
        },
        "id": "L-llek0PsIpj",
        "outputId": "349ae6ec-1b10-4414-c3b3-d54432011735"
      },
      "execution_count": 12,
      "outputs": [
        {
          "output_type": "stream",
          "name": "stdout",
          "text": [
            "MSE: 28.74589007585153\n"
          ]
        }
      ]
    },
    {
      "cell_type": "code",
      "source": [
        "from sklearn.linear_model import ElasticNet\n",
        "\n",
        "kfold = KFold(n_splits=10, shuffle=True, random_state=7)\n",
        "model = ElasticNet()\n",
        "scoring = \"neg_mean_squared_error\"\n",
        "results = cross_val_score(model, X_reg, Y_reg, cv=kfold, scoring=scoring)\n",
        "print(f\"MSE: {-results.mean()}\")"
      ],
      "metadata": {
        "colab": {
          "base_uri": "https://localhost:8080/"
        },
        "id": "_wEwdue4sYwF",
        "outputId": "012f0ffc-076b-4ade-ba93-a25317b7ca56"
      },
      "execution_count": 13,
      "outputs": [
        {
          "output_type": "stream",
          "name": "stdout",
          "text": [
            "MSE: 27.908420360231055\n"
          ]
        }
      ]
    },
    {
      "cell_type": "code",
      "source": [
        "from sklearn.linear_model import LogisticRegression\n",
        "kfold = KFold(n_splits=10, shuffle=True, random_state=7)\n",
        "model = LogisticRegression(solver= \"lbfgs\", max_iter= 1000)\n",
        "results = cross_val_score(model, X_cla, Y_cla, cv= kfold)\n",
        "print(f\"Accuracy: {results.mean()*100.0:,.2f}% ({results.std()*100.0:,.2f}%)\")\n"
      ],
      "metadata": {
        "colab": {
          "base_uri": "https://localhost:8080/"
        },
        "id": "lal0Z0bCtQcZ",
        "outputId": "b959f4a0-0f79-40b5-f9f8-2d5713bad133"
      },
      "execution_count": 14,
      "outputs": [
        {
          "output_type": "stream",
          "name": "stdout",
          "text": [
            "Accuracy: 77.22% (4.97%)\n"
          ]
        }
      ]
    },
    {
      "cell_type": "code",
      "source": [
        "from sklearn.discriminant_analysis import LinearDiscriminantAnalysis\n",
        "kfold = KFold(n_splits=10, shuffle=True, random_state=7)\n",
        "model = LinearDiscriminantAnalysis()\n",
        "results = cross_val_score(model, X_cla, Y_cla, cv= kfold)\n",
        "print(f\"Accuracy: {results.mean()*100.0:,.2f}% ({results.std()*100.0:,.2f}%)\")\n"
      ],
      "metadata": {
        "colab": {
          "base_uri": "https://localhost:8080/"
        },
        "id": "Axtg-dhOu6pP",
        "outputId": "4f23f9fa-2d9e-4b48-da83-d5268bc31695"
      },
      "execution_count": 15,
      "outputs": [
        {
          "output_type": "stream",
          "name": "stdout",
          "text": [
            "Accuracy: 76.70% (4.80%)\n"
          ]
        }
      ]
    }
  ]
}